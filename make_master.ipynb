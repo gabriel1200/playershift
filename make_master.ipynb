{
 "cells": [
  {
   "cell_type": "code",
   "execution_count": 4,
   "id": "14b10427-1819-443d-a53a-ce792797b3e4",
   "metadata": {},
   "outputs": [
    {
     "name": "stdout",
     "output_type": "stream",
     "text": [
      "loading 2001\n"
     ]
    }
   ],
   "source": [
    "import pandas as pd\n",
    "frames = []\n",
    "for year in range(2001,2025):\n",
    "    trail='ps'\n",
    "    print('loading '+str(year))\n",
    "    url=f'https://raw.githubusercontent.com/gabriel1200/playershift/refs/heads/main/years/{year}{trail}.csv'\n",
    "    df=pd.read_csv(url)\n",
    "    frames.append(df)\n",
    "\n",
    "\n",
    "for year in range(2001,2026):\n",
    "    trail=''\n",
    "    print('loading '+str(year))\n",
    "    url=f'https://raw.githubusercontent.com/gabriel1200/playershift/refs/heads/main/years/{year}{trail}.csv'\n",
    "    df=pd.read_csv(url)\n",
    "    frames.append(df)\n",
    "\n",
    "master=pd.concat(frames)\n",
    "file_name='shift_master.csv'\n",
    "master.to_csv(file_name,index=False)"
   ]
  },
  {
   "cell_type": "code",
   "execution_count": 3,
   "id": "9eb09224-a1bb-4518-a711-3d8f706b2a1f",
   "metadata": {},
   "outputs": [
    {
     "data": {
      "text/plain": [
       "574659"
      ]
     },
     "execution_count": 3,
     "metadata": {},
     "output_type": "execute_result"
    }
   ],
   "source": [
    "len(master)"
   ]
  },
  {
   "cell_type": "code",
   "execution_count": null,
   "id": "65e0e3ac-1153-4fe4-ac47-54432f31da46",
   "metadata": {},
   "outputs": [],
   "source": []
  }
 ],
 "metadata": {
  "kernelspec": {
   "display_name": "Python 3 (ipykernel)",
   "language": "python",
   "name": "python3"
  },
  "language_info": {
   "codemirror_mode": {
    "name": "ipython",
    "version": 3
   },
   "file_extension": ".py",
   "mimetype": "text/x-python",
   "name": "python",
   "nbconvert_exporter": "python",
   "pygments_lexer": "ipython3",
   "version": "3.10.12"
  }
 },
 "nbformat": 4,
 "nbformat_minor": 5
}
